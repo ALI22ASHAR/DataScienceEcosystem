{
 "cells": [
  {
   "cell_type": "markdown",
   "id": "8846ad88-a9fe-4cbc-86c0-b889a7b18012",
   "metadata": {},
   "source": [
    "# Data Science Tools and Ecosystem\n"
   ]
  },
  {
   "cell_type": "markdown",
   "id": "2a4ceea7-35d7-435e-918d-ca45cafebf9c",
   "metadata": {},
   "source": [
    "# In this notebook, Data Science Tools and Ecosystem are summarized.\n"
   ]
  },
  {
   "cell_type": "markdown",
   "id": "c575c047-ec64-4e48-9676-e0b2656f3c4b",
   "metadata": {},
   "source": [
    "**Objectives:**\n",
    "- Python\n",
    "- R\n",
    "- SQL"
   ]
  },
  {
   "cell_type": "markdown",
   "id": "0ea46c58-bafb-4fc7-8fde-3b9645a3656a",
   "metadata": {},
   "source": [
    "# Some of the popular languages that Data Scientists use are:\n",
    "\n",
    "# 1. Python\n",
    "# 2. R\n",
    "# 3. SQL"
   ]
  },
  {
   "cell_type": "markdown",
   "id": "caf61240-fc0b-413c-a357-49b6e517db36",
   "metadata": {},
   "source": [
    "# Some of the commonly used libraries used by Data Scientists include:\n",
    "\n",
    "# 1. Pandas\n",
    "# 2. Matplotlib\n",
    "# 3. Numpy\n",
    "# 4. Scikit-Learn"
   ]
  },
  {
   "cell_type": "markdown",
   "id": "f6751a3b-d4d0-4fd0-91a1-c1b4c96b9bf0",
   "metadata": {},
   "source": [
    "| Data Science Tools |\n",
    "| ------------------ |\n",
    "| Jupyter Notebook   |\n",
    "| RStudio            |\n",
    "| Apache Zeppelin    |\n"
   ]
  },
  {
   "cell_type": "markdown",
   "id": "c9847fda-2e0a-4d9e-8498-34223fa743eb",
   "metadata": {},
   "source": [
    "### Below are a few examples of evaluating arithmetic expressions in Python"
   ]
  },
  {
   "cell_type": "code",
   "execution_count": 3,
   "id": "e74580dc-97f3-4803-a11f-7b2134c40f8a",
   "metadata": {},
   "outputs": [
    {
     "data": {
      "text/plain": [
       "17"
      ]
     },
     "execution_count": 3,
     "metadata": {},
     "output_type": "execute_result"
    }
   ],
   "source": [
    "# This a simple arithmetic expression to mutiply then add integers\n",
    "\n",
    "(3*4)+5"
   ]
  },
  {
   "cell_type": "code",
   "execution_count": 4,
   "id": "7039658e-8f9f-4228-86c9-1eab7f5b727d",
   "metadata": {},
   "outputs": [
    {
     "data": {
      "text/plain": [
       "3.3333333333333335"
      ]
     },
     "execution_count": 4,
     "metadata": {},
     "output_type": "execute_result"
    }
   ],
   "source": [
    "#  This will convert 200 minutes to hours by diving by 60\n",
    "\n",
    "minutes = 200\n",
    "hours = minutes/60\n",
    "hours\n"
   ]
  },
  {
   "cell_type": "markdown",
   "id": "103b60fe-3d12-45ad-9b49-71608ae9442f",
   "metadata": {},
   "source": [
    "## Author ##\n",
    "ALI ASHAR SHAFIQUE"
   ]
  },
  {
   "cell_type": "code",
   "execution_count": null,
   "id": "9ab79aca-0839-48bc-ac03-9be4e0781ca3",
   "metadata": {},
   "outputs": [],
   "source": []
  }
 ],
 "metadata": {
  "kernelspec": {
   "display_name": "Python 3 (ipykernel)",
   "language": "python",
   "name": "python3"
  },
  "language_info": {
   "codemirror_mode": {
    "name": "ipython",
    "version": 3
   },
   "file_extension": ".py",
   "mimetype": "text/x-python",
   "name": "python",
   "nbconvert_exporter": "python",
   "pygments_lexer": "ipython3",
   "version": "3.12.5"
  }
 },
 "nbformat": 4,
 "nbformat_minor": 5
}
